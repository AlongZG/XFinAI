{
 "cells": [
  {
   "cell_type": "code",
   "execution_count": 1,
   "metadata": {},
   "outputs": [],
   "source": [
    "import glog\n",
    "import torch\n",
    "from torch import nn, optim\n",
    "from torch.utils.data import DataLoader\n",
    "import numpy as np\n",
    "import pandas as pd\n",
    "import matplotlib.pyplot as plt\n",
    "import joblib\n",
    "import sys\n",
    "\n",
    "sys.path.append('../..')\n",
    "import xfinai_config\n",
    "from data_layer.base_dataset import FuturesDataset\n",
    "from utils import path_wrapper, plotter"
   ]
  },
  {
   "cell_type": "markdown",
   "metadata": {},
   "source": [
    "### 0 Loading Data"
   ]
  },
  {
   "cell_type": "code",
   "execution_count": 18,
   "metadata": {},
   "outputs": [],
   "source": [
    "future_index= 'ic'\n",
    "params = {\n",
    "    \"batch_size\": 32,\n",
    "    \"hidden_size\": 64,\n",
    "    \"seq_length\": 8,\n",
    "    \"weight_decay\": 0.03699014272607559,\n",
    "    \"num_layers\": 8,\n",
    "    \"learning_rate\": 0.1264079267383521,\n",
    "#     \"learning_rate\": 0.0006264079267383521,\n",
    "    \"dropout_prob\": 0.0049846528896436\n",
    "#     \"dropout_prob\": 0.2149846528896436\n",
    "}"
   ]
  },
  {
   "cell_type": "code",
   "execution_count": 3,
   "metadata": {},
   "outputs": [],
   "source": [
    "# Load data\n",
    "train_data = pd.read_pickle(f\"{xfinai_config.featured_data_path}/{future_index}_train_data.pkl\")\n",
    "val_data = pd.read_pickle(f\"{xfinai_config.featured_data_path}/{future_index}_val_data.pkl\")\n",
    "test_data = pd.read_pickle(f\"{xfinai_config.featured_data_path}/{future_index}_test_data.pkl\")"
   ]
  },
  {
   "cell_type": "markdown",
   "metadata": {},
   "source": [
    "### 1 Define LSTM Model"
   ]
  },
  {
   "cell_type": "code",
   "execution_count": 4,
   "metadata": {},
   "outputs": [],
   "source": [
    "class MLP(nn.Module):\n",
    "    def __init__(self, input_size, hidden_size, num_layers, output_size, dropout_prob, device, directions=1):\n",
    "        super().__init__()\n",
    "        self.name = 'MLP'\n",
    "        self.num_layers = num_layers\n",
    "        self.hidden_size = hidden_size\n",
    "        self.directions = directions\n",
    "        self.device = device\n",
    "\n",
    "        self.lstm = nn.LSTM(input_size, hidden_size, num_layers, batch_first=True, dropout=dropout_prob)\n",
    "        self.dropout = nn.Dropout(dropout_prob)\n",
    "        self.fc = nn.Linear(hidden_size, output_size)\n",
    "\n",
    "    def init_hidden_states(self, batch_size):\n",
    "        state_dim = (self.num_layers * self.directions, batch_size, self.hidden_size)\n",
    "        return torch.zeros(state_dim).to(self.device), torch.zeros(state_dim).to(self.device)\n",
    "\n",
    "    def forward(self, x, states):\n",
    "        x, (h, c) = self.lstm(x, states)\n",
    "        x = self.fc(x)\n",
    "        return x[:, -1, :], (h, c)"
   ]
  },
  {
   "cell_type": "code",
   "execution_count": 5,
   "metadata": {},
   "outputs": [],
   "source": [
    "def eval_model(model, dataloader, data_set_name, future_name, params):\n",
    "    with torch.no_grad():\n",
    "        y_real_list = np.array([])\n",
    "        y_pred_list = np.array([])\n",
    "        states = model.init_hidden_states(params['batch_size'])\n",
    "\n",
    "        for idx, (x_batch, y_batch) in enumerate(dataloader):\n",
    "            # Convert to Tensors\n",
    "            x_batch = x_batch.float().to(model.device)\n",
    "            y_batch = y_batch.float().to(model.device)\n",
    "\n",
    "            states = [state.detach() for state in states]\n",
    "            y_pred, states = model(x_batch, states)\n",
    "\n",
    "            y_real_list = np.append(y_real_list, y_batch.squeeze(1).cpu().numpy())\n",
    "            y_pred_list = np.append(y_pred_list, y_pred.squeeze(1).cpu().numpy())\n",
    "\n",
    "    plt.figure(figsize=[15, 3], dpi=100)\n",
    "    plt.plot(y_real_list, label=f'{data_set_name}_real')\n",
    "    plt.plot(y_pred_list, label=f'{data_set_name}_pred')\n",
    "    plt.legend()\n",
    "    plt.title(f\"Inference On {data_set_name} Set - {model.name} {future_name}\")\n",
    "    plt.xlabel('Time')\n",
    "    plt.ylabel('Return')\n",
    "    plt.subplots_adjust(bottom=0.15)\n",
    "\n",
    "    result_dir = path_wrapper.wrap_path(f\"{xfinai_config.inference_result_path}/{future_name}/{model.name}\")\n",
    "    plt.savefig(f\"{result_dir}/{data_set_name}.png\")\n",
    "    \n",
    "\n",
    "def save_model(model, future_name):\n",
    "    dir_path = path_wrapper.wrap_path(f\"{xfinai_config.model_save_path}/{future_name}\")\n",
    "    save_path = f\"{dir_path}/{model.name}.pth\"\n",
    "    glog.info(f\"Starting save model state, save_path: {save_path}\")\n",
    "    torch.save(model.state_dict(), save_path)"
   ]
  },
  {
   "cell_type": "markdown",
   "metadata": {},
   "source": [
    "### 2 Create Training Func"
   ]
  },
  {
   "cell_type": "code",
   "execution_count": 6,
   "metadata": {},
   "outputs": [],
   "source": [
    "def train(train_data_loader, model, criterion, optimizer, params):\n",
    "    glog.info(f\"Start Training Model\")\n",
    "\n",
    "    # Set to train mode\n",
    "    model.train()\n",
    "    training_states = model.init_hidden_states(params['batch_size'])\n",
    "    running_train_loss = 0.0\n",
    "\n",
    "    # Begin training\n",
    "    for idx, (x_batch, y_batch) in enumerate(train_data_loader):\n",
    "        optimizer.zero_grad()\n",
    "\n",
    "        # Convert to Tensors\n",
    "        x_batch = x_batch.float().to(model.device)\n",
    "        y_batch = y_batch.float().to(model.device)\n",
    "\n",
    "        # Truncated Backpropagation\n",
    "        training_states = [state.detach() for state in training_states]\n",
    "        # Make prediction\n",
    "        y_pred, training_states = model(x_batch, training_states)\n",
    "\n",
    "        # Calculate loss\n",
    "        loss = criterion(y_pred, y_batch)\n",
    "        loss.backward()\n",
    "        running_train_loss += loss.item()\n",
    "\n",
    "        optimizer.step()\n",
    "\n",
    "    glog.info(f\"End Training Model\")\n",
    "\n",
    "    train_loss_average = running_train_loss / len(train_data_loader)\n",
    "    return model, train_loss_average"
   ]
  },
  {
   "cell_type": "code",
   "execution_count": 7,
   "metadata": {},
   "outputs": [],
   "source": [
    "def validate(val_data_loader, model, criterion, params):\n",
    "    # Set to eval mode\n",
    "    model.eval()\n",
    "    running_val_loss = 0.0\n",
    "    with torch.no_grad():\n",
    "        val_states = model.init_hidden_states(params['batch_size'])\n",
    "\n",
    "        for idx, (x_batch, y_batch) in enumerate(val_data_loader):\n",
    "            # Convert to Tensors\n",
    "            x_batch = x_batch.float().to(model.device)\n",
    "            y_batch = y_batch.float().to(model.device)\n",
    "\n",
    "            val_states = [state.detach() for state in val_states]\n",
    "            y_pred, val_states = model(x_batch, val_states)\n",
    "\n",
    "            val_loss = criterion(y_pred, y_batch)\n",
    "            running_val_loss += val_loss.item()\n",
    "\n",
    "    val_loss_average = running_val_loss / len(val_data_loader)\n",
    "    return val_loss_average"
   ]
  },
  {
   "cell_type": "markdown",
   "metadata": {},
   "source": [
    "### 3 Run Training"
   ]
  },
  {
   "cell_type": "code",
   "execution_count": 8,
   "metadata": {},
   "outputs": [],
   "source": [
    "# Transfer to accelerator\n",
    "use_cuda = torch.cuda.is_available()\n",
    "device = torch.device(\"cuda\" if use_cuda else \"cpu\")\n",
    "\n",
    "# Create dataset & data loader\n",
    "train_dataset = FuturesDataset(data=train_data, label=xfinai_config.label, seq_length=params['seq_length'])\n",
    "val_dataset = FuturesDataset(data=train_data, label=xfinai_config.label, seq_length=params['seq_length'])\n",
    "test_dataset = FuturesDataset(data=test_data, label=xfinai_config.label, seq_length=params['seq_length'])\n",
    "train_loader = DataLoader(dataset=train_dataset, **xfinai_config.data_loader_config,\n",
    "                          batch_size=params['batch_size'])\n",
    "val_loader = DataLoader(dataset=val_dataset, **xfinai_config.data_loader_config,\n",
    "                        batch_size=params['batch_size'])\n",
    "test_loader = DataLoader(dataset=test_dataset, **xfinai_config.data_loader_config,\n",
    "                         batch_size=params['batch_size'])"
   ]
  },
  {
   "cell_type": "code",
   "execution_count": null,
   "metadata": {},
   "outputs": [
    {
     "name": "stderr",
     "output_type": "stream",
     "text": [
      "I0313 10:11:36.689117 14592 510440094.py:2] Start Training Model\n"
     ]
    },
    {
     "name": "stdout",
     "output_type": "stream",
     "text": [
      "LSTM(\n",
      "  (lstm): LSTM(28, 64, num_layers=8, batch_first=True, dropout=0.0049846528896436)\n",
      "  (dropout): Dropout(p=0.0049846528896436, inplace=False)\n",
      "  (fc): Linear(in_features=64, out_features=1, bias=True)\n",
      ")\n"
     ]
    },
    {
     "name": "stderr",
     "output_type": "stream",
     "text": [
      "I0313 10:11:41.019660 14592 510440094.py:29] End Training Model\n",
      "I0313 10:11:43.664567 14592 510440094.py:2] Start Training Model\n"
     ]
    },
    {
     "name": "stdout",
     "output_type": "stream",
     "text": [
      "Epoch :0 train_score 6757.701512970993 val_score 6538.3098226300835\n"
     ]
    },
    {
     "name": "stderr",
     "output_type": "stream",
     "text": [
      "I0313 10:11:47.857584 14592 510440094.py:29] End Training Model\n",
      "I0313 10:11:50.438400 14592 510440094.py:2] Start Training Model\n"
     ]
    },
    {
     "name": "stdout",
     "output_type": "stream",
     "text": [
      "Epoch :1 train_score 6378.653656735945 val_score 6234.352793716358\n"
     ]
    },
    {
     "name": "stderr",
     "output_type": "stream",
     "text": [
      "I0313 10:11:54.670911 14592 510440094.py:29] End Training Model\n",
      "I0313 10:11:57.223743 14592 510440094.py:2] Start Training Model\n"
     ]
    },
    {
     "name": "stdout",
     "output_type": "stream",
     "text": [
      "Epoch :2 train_score 6091.912569620963 val_score 5888.694345282595\n"
     ]
    },
    {
     "name": "stderr",
     "output_type": "stream",
     "text": [
      "I0313 10:12:01.495503 14592 510440094.py:29] End Training Model\n",
      "I0313 10:12:04.055998 14592 510440094.py:2] Start Training Model\n"
     ]
    },
    {
     "name": "stdout",
     "output_type": "stream",
     "text": [
      "Epoch :3 train_score 5656.765524540221 val_score 5470.121764260616\n"
     ]
    },
    {
     "name": "stderr",
     "output_type": "stream",
     "text": [
      "I0313 10:12:08.231809 14592 510440094.py:29] End Training Model\n",
      "I0313 10:12:10.768264 14592 510440094.py:2] Start Training Model\n"
     ]
    },
    {
     "name": "stdout",
     "output_type": "stream",
     "text": [
      "Epoch :4 train_score 5371.152708208732 val_score 5299.727085825359\n"
     ]
    },
    {
     "name": "stderr",
     "output_type": "stream",
     "text": [
      "I0313 10:12:15.028924 14592 510440094.py:29] End Training Model\n",
      "I0313 10:12:17.597178 14592 510440094.py:2] Start Training Model\n"
     ]
    },
    {
     "name": "stdout",
     "output_type": "stream",
     "text": [
      "Epoch :5 train_score 5255.5961166454845 val_score 5213.163436378589\n"
     ]
    },
    {
     "name": "stderr",
     "output_type": "stream",
     "text": [
      "I0313 10:12:21.778280 14592 510440094.py:29] End Training Model\n",
      "I0313 10:12:24.369565 14592 510440094.py:2] Start Training Model\n"
     ]
    },
    {
     "name": "stdout",
     "output_type": "stream",
     "text": [
      "Epoch :6 train_score 5193.454566481011 val_score 5180.738094348086\n"
     ]
    },
    {
     "name": "stderr",
     "output_type": "stream",
     "text": [
      "I0313 10:12:28.626993 14592 510440094.py:29] End Training Model\n",
      "I0313 10:12:31.208090 14592 510440094.py:2] Start Training Model\n"
     ]
    },
    {
     "name": "stdout",
     "output_type": "stream",
     "text": [
      "Epoch :7 train_score 5177.132782128439 val_score 5176.066450639205\n"
     ]
    },
    {
     "name": "stderr",
     "output_type": "stream",
     "text": [
      "I0313 10:12:35.417490 14592 510440094.py:29] End Training Model\n",
      "I0313 10:12:37.955882 14592 510440094.py:2] Start Training Model\n"
     ]
    },
    {
     "name": "stdout",
     "output_type": "stream",
     "text": [
      "Epoch :8 train_score 5178.492465516597 val_score 5181.805547248804\n"
     ]
    },
    {
     "name": "stderr",
     "output_type": "stream",
     "text": [
      "I0313 10:12:42.362355 14592 510440094.py:29] End Training Model\n",
      "I0313 10:12:45.063987 14592 510440094.py:2] Start Training Model\n"
     ]
    },
    {
     "name": "stdout",
     "output_type": "stream",
     "text": [
      "Epoch :9 train_score 5186.309275941986 val_score 5190.980872925389\n"
     ]
    },
    {
     "name": "stderr",
     "output_type": "stream",
     "text": [
      "I0313 10:12:49.316815 14592 510440094.py:29] End Training Model\n",
      "I0313 10:12:51.872386 14592 510440094.py:2] Start Training Model\n"
     ]
    },
    {
     "name": "stdout",
     "output_type": "stream",
     "text": [
      "Epoch :10 train_score 5195.849331358403 val_score 5200.573847282446\n"
     ]
    },
    {
     "name": "stderr",
     "output_type": "stream",
     "text": [
      "I0313 10:12:56.048764 14592 510440094.py:29] End Training Model\n",
      "I0313 10:12:58.601054 14592 510440094.py:2] Start Training Model\n"
     ]
    },
    {
     "name": "stdout",
     "output_type": "stream",
     "text": [
      "Epoch :11 train_score 5205.094471908642 val_score 5209.350018222936\n"
     ]
    },
    {
     "name": "stderr",
     "output_type": "stream",
     "text": [
      "I0313 10:13:02.887053 14592 510440094.py:29] End Training Model\n",
      "I0313 10:13:05.454182 14592 510440094.py:2] Start Training Model\n"
     ]
    },
    {
     "name": "stdout",
     "output_type": "stream",
     "text": [
      "Epoch :12 train_score 5213.273037997159 val_score 5216.896084872159\n"
     ]
    },
    {
     "name": "stderr",
     "output_type": "stream",
     "text": [
      "I0313 10:13:09.650644 14592 510440094.py:29] End Training Model\n",
      "I0313 10:13:12.249897 14592 510440094.py:2] Start Training Model\n"
     ]
    },
    {
     "name": "stdout",
     "output_type": "stream",
     "text": [
      "Epoch :13 train_score 5220.181243458433 val_score 5223.173145933014\n"
     ]
    },
    {
     "name": "stderr",
     "output_type": "stream",
     "text": [
      "I0313 10:13:16.511219 14592 510440094.py:29] End Training Model\n",
      "I0313 10:13:19.051464 14592 510440094.py:2] Start Training Model\n"
     ]
    },
    {
     "name": "stdout",
     "output_type": "stream",
     "text": [
      "Epoch :14 train_score 5225.871049360795 val_score 5228.29645213442\n"
     ]
    },
    {
     "name": "stderr",
     "output_type": "stream",
     "text": [
      "I0313 10:13:23.239961 14592 510440094.py:29] End Training Model\n",
      "I0313 10:13:25.790099 14592 510440094.py:2] Start Training Model\n"
     ]
    },
    {
     "name": "stdout",
     "output_type": "stream",
     "text": [
      "Epoch :15 train_score 5230.488916716507 val_score 5232.432458320874\n"
     ]
    },
    {
     "name": "stderr",
     "output_type": "stream",
     "text": [
      "I0313 10:13:30.031467 14592 510440094.py:29] End Training Model\n",
      "I0313 10:13:32.584663 14592 510440094.py:2] Start Training Model\n"
     ]
    },
    {
     "name": "stdout",
     "output_type": "stream",
     "text": [
      "Epoch :16 train_score 5234.20465525942 val_score 5235.7502523175835\n"
     ]
    },
    {
     "name": "stderr",
     "output_type": "stream",
     "text": [
      "I0313 10:13:36.780897 14592 510440094.py:29] End Training Model\n",
      "I0313 10:13:39.367192 14592 510440094.py:2] Start Training Model\n"
     ]
    },
    {
     "name": "stdout",
     "output_type": "stream",
     "text": [
      "Epoch :17 train_score 5237.179778614683 val_score 5238.404084274073\n"
     ]
    },
    {
     "name": "stderr",
     "output_type": "stream",
     "text": [
      "I0313 10:13:43.593700 14592 510440094.py:29] End Training Model\n",
      "I0313 10:13:46.152562 14592 510440094.py:2] Start Training Model\n"
     ]
    },
    {
     "name": "stdout",
     "output_type": "stream",
     "text": [
      "Epoch :18 train_score 5239.557983982506 val_score 5240.524631335975\n"
     ]
    },
    {
     "name": "stderr",
     "output_type": "stream",
     "text": [
      "I0313 10:13:50.390611 14592 510440094.py:29] End Training Model\n",
      "I0313 10:13:52.947214 14592 510440094.py:2] Start Training Model\n"
     ]
    },
    {
     "name": "stdout",
     "output_type": "stream",
     "text": [
      "Epoch :19 train_score 5241.457545230263 val_score 5242.217878569827\n"
     ]
    },
    {
     "name": "stderr",
     "output_type": "stream",
     "text": [
      "I0313 10:13:57.128613 14592 510440094.py:29] End Training Model\n",
      "I0313 10:13:59.674824 14592 510440094.py:2] Start Training Model\n"
     ]
    },
    {
     "name": "stdout",
     "output_type": "stream",
     "text": [
      "Epoch :20 train_score 5242.975244841507 val_score 5243.571959573116\n"
     ]
    },
    {
     "name": "stderr",
     "output_type": "stream",
     "text": [
      "I0313 10:14:03.908513 14592 510440094.py:29] End Training Model\n",
      "I0313 10:14:06.485293 14592 510440094.py:2] Start Training Model\n"
     ]
    },
    {
     "name": "stdout",
     "output_type": "stream",
     "text": [
      "Epoch :21 train_score 5244.189062967254 val_score 5244.654455741626\n"
     ]
    },
    {
     "name": "stderr",
     "output_type": "stream",
     "text": [
      "I0313 10:14:10.704517 14592 510440094.py:29] End Training Model\n",
      "I0313 10:14:13.336800 14592 510440094.py:2] Start Training Model\n"
     ]
    },
    {
     "name": "stdout",
     "output_type": "stream",
     "text": [
      "Epoch :22 train_score 5245.1605697704845 val_score 5245.5221361954245\n"
     ]
    },
    {
     "name": "stderr",
     "output_type": "stream",
     "text": [
      "I0313 10:14:17.539575 14592 510440094.py:29] End Training Model\n",
      "I0313 10:14:20.077097 14592 510440094.py:2] Start Training Model\n"
     ]
    },
    {
     "name": "stdout",
     "output_type": "stream",
     "text": [
      "Epoch :23 train_score 5245.940581545305 val_score 5246.264571340461\n"
     ]
    },
    {
     "name": "stderr",
     "output_type": "stream",
     "text": [
      "I0313 10:14:24.314868 14592 510440094.py:29] End Training Model\n",
      "I0313 10:14:26.870935 14592 510440094.py:2] Start Training Model\n"
     ]
    },
    {
     "name": "stdout",
     "output_type": "stream",
     "text": [
      "Epoch :24 train_score 5246.6266283829245 val_score 5246.7888265363335\n"
     ]
    },
    {
     "name": "stderr",
     "output_type": "stream",
     "text": [
      "I0313 10:14:31.080867 14592 510440094.py:29] End Training Model\n",
      "I0313 10:14:33.709561 14592 510440094.py:2] Start Training Model\n"
     ]
    },
    {
     "name": "stdout",
     "output_type": "stream",
     "text": [
      "Epoch :25 train_score 5247.075508373206 val_score 5247.231779399671\n"
     ]
    },
    {
     "name": "stderr",
     "output_type": "stream",
     "text": [
      "I0313 10:14:37.938356 14592 510440094.py:29] End Training Model\n",
      "I0313 10:14:40.568587 14592 510440094.py:2] Start Training Model\n"
     ]
    },
    {
     "name": "stdout",
     "output_type": "stream",
     "text": [
      "Epoch :26 train_score 5247.4753172659985 val_score 5247.590955816388\n"
     ]
    },
    {
     "name": "stderr",
     "output_type": "stream",
     "text": [
      "I0313 10:14:44.896677 14592 510440094.py:29] End Training Model\n",
      "I0313 10:14:47.447242 14592 510440094.py:2] Start Training Model\n"
     ]
    },
    {
     "name": "stdout",
     "output_type": "stream",
     "text": [
      "Epoch :27 train_score 5247.798769718152 val_score 5247.880955162231\n"
     ]
    },
    {
     "name": "stderr",
     "output_type": "stream",
     "text": [
      "I0313 10:14:51.668889 14592 510440094.py:29] End Training Model\n",
      "I0313 10:14:54.219737 14592 510440094.py:2] Start Training Model\n"
     ]
    },
    {
     "name": "stdout",
     "output_type": "stream",
     "text": [
      "Epoch :28 train_score 5248.060439406399 val_score 5248.115963292464\n"
     ]
    },
    {
     "name": "stderr",
     "output_type": "stream",
     "text": [
      "I0313 10:14:58.474242 14592 510440094.py:29] End Training Model\n",
      "I0313 10:15:01.017300 14592 510440094.py:2] Start Training Model\n"
     ]
    },
    {
     "name": "stdout",
     "output_type": "stream",
     "text": [
      "Epoch :29 train_score 5248.27263382177 val_score 5248.306182715311\n"
     ]
    },
    {
     "name": "stderr",
     "output_type": "stream",
     "text": [
      "I0313 10:15:05.226927 14592 510440094.py:29] End Training Model\n",
      "I0313 10:15:07.806563 14592 510440094.py:2] Start Training Model\n"
     ]
    },
    {
     "name": "stdout",
     "output_type": "stream",
     "text": [
      "Epoch :30 train_score 5248.444081283642 val_score 5248.460094105114\n"
     ]
    },
    {
     "name": "stderr",
     "output_type": "stream",
     "text": [
      "I0313 10:15:12.001662 14592 510440094.py:29] End Training Model\n",
      "I0313 10:15:14.562458 14592 510440094.py:2] Start Training Model\n"
     ]
    },
    {
     "name": "stdout",
     "output_type": "stream",
     "text": [
      "Epoch :31 train_score 5248.583290501645 val_score 5248.584963273774\n"
     ]
    },
    {
     "name": "stderr",
     "output_type": "stream",
     "text": [
      "I0313 10:15:18.757644 14592 510440094.py:29] End Training Model\n",
      "I0313 10:15:21.307682 14592 510440094.py:2] Start Training Model\n"
     ]
    },
    {
     "name": "stdout",
     "output_type": "stream",
     "text": [
      "Epoch :32 train_score 5248.695805453798 val_score 5248.686352889504\n"
     ]
    },
    {
     "name": "stderr",
     "output_type": "stream",
     "text": [
      "I0313 10:15:25.517585 14592 510440094.py:29] End Training Model\n",
      "I0313 10:15:28.062595 14592 510440094.py:2] Start Training Model\n"
     ]
    },
    {
     "name": "stdout",
     "output_type": "stream",
     "text": [
      "Epoch :33 train_score 5248.787303285736 val_score 5248.768578050239\n"
     ]
    },
    {
     "name": "stderr",
     "output_type": "stream",
     "text": [
      "I0313 10:15:32.264539 14592 510440094.py:29] End Training Model\n",
      "I0313 10:15:34.815004 14592 510440094.py:2] Start Training Model\n"
     ]
    },
    {
     "name": "stdout",
     "output_type": "stream",
     "text": [
      "Epoch :34 train_score 5248.861412230861 val_score 5248.834956264952\n"
     ]
    },
    {
     "name": "stderr",
     "output_type": "stream",
     "text": [
      "I0313 10:15:38.990256 14592 510440094.py:29] End Training Model\n",
      "I0313 10:15:41.579251 14592 510440094.py:2] Start Training Model\n"
     ]
    },
    {
     "name": "stdout",
     "output_type": "stream",
     "text": [
      "Epoch :35 train_score 5248.921262896232 val_score 5248.888534034839\n"
     ]
    },
    {
     "name": "stderr",
     "output_type": "stream",
     "text": [
      "I0313 10:15:45.844511 14592 510440094.py:29] End Training Model\n",
      "I0313 10:15:48.375717 14592 510440094.py:2] Start Training Model\n"
     ]
    },
    {
     "name": "stdout",
     "output_type": "stream",
     "text": [
      "Epoch :36 train_score 5248.970079339862 val_score 5248.932362533642\n"
     ]
    },
    {
     "name": "stderr",
     "output_type": "stream",
     "text": [
      "I0313 10:15:52.583772 14592 510440094.py:29] End Training Model\n",
      "I0313 10:15:55.201670 14592 510440094.py:2] Start Training Model\n"
     ]
    },
    {
     "name": "stdout",
     "output_type": "stream",
     "text": [
      "Epoch :37 train_score 5249.009795996561 val_score 5248.968198639354\n"
     ]
    },
    {
     "name": "stderr",
     "output_type": "stream",
     "text": [
      "I0313 10:15:59.534494 14592 510440094.py:29] End Training Model\n",
      "I0313 10:16:02.120122 14592 510440094.py:2] Start Training Model\n"
     ]
    },
    {
     "name": "stdout",
     "output_type": "stream",
     "text": [
      "Epoch :38 train_score 5249.042153390401 val_score 5248.997021250748\n"
     ]
    },
    {
     "name": "stderr",
     "output_type": "stream",
     "text": [
      "I0313 10:16:06.572133 14592 510440094.py:29] End Training Model\n",
      "I0313 10:16:09.190363 14592 510440094.py:2] Start Training Model\n"
     ]
    },
    {
     "name": "stdout",
     "output_type": "stream",
     "text": [
      "Epoch :39 train_score 5249.068333675987 val_score 5249.020470432117\n"
     ]
    },
    {
     "name": "stderr",
     "output_type": "stream",
     "text": [
      "I0313 10:16:13.664391 14592 510440094.py:29] End Training Model\n",
      "I0313 10:16:16.369060 14592 510440094.py:2] Start Training Model\n"
     ]
    },
    {
     "name": "stdout",
     "output_type": "stream",
     "text": [
      "Epoch :40 train_score 5249.08961713143 val_score 5249.03978908119\n"
     ]
    },
    {
     "name": "stderr",
     "output_type": "stream",
     "text": [
      "I0313 10:16:20.934871 14592 510440094.py:29] End Training Model\n",
      "I0313 10:16:23.750722 14592 510440094.py:2] Start Training Model\n"
     ]
    },
    {
     "name": "stdout",
     "output_type": "stream",
     "text": [
      "Epoch :41 train_score 5249.10640325957 val_score 5249.054608066686\n"
     ]
    },
    {
     "name": "stderr",
     "output_type": "stream",
     "text": [
      "I0313 10:16:28.336776 14592 510440094.py:29] End Training Model\n",
      "I0313 10:16:31.059542 14592 510440094.py:2] Start Training Model\n"
     ]
    },
    {
     "name": "stdout",
     "output_type": "stream",
     "text": [
      "Epoch :42 train_score 5249.120544725628 val_score 5249.067312724283\n"
     ]
    },
    {
     "name": "stderr",
     "output_type": "stream",
     "text": [
      "I0313 10:16:35.579880 14592 510440094.py:29] End Training Model\n",
      "I0313 10:16:38.549168 14592 510440094.py:2] Start Training Model\n"
     ]
    },
    {
     "name": "stdout",
     "output_type": "stream",
     "text": [
      "Epoch :43 train_score 5249.131557920903 val_score 5249.07759466582\n"
     ]
    },
    {
     "name": "stderr",
     "output_type": "stream",
     "text": [
      "I0313 10:16:43.291266 14592 510440094.py:29] End Training Model\n",
      "I0313 10:16:45.994149 14592 510440094.py:2] Start Training Model\n"
     ]
    },
    {
     "name": "stdout",
     "output_type": "stream",
     "text": [
      "Epoch :44 train_score 5249.14094039698 val_score 5249.085832367673\n"
     ]
    },
    {
     "name": "stderr",
     "output_type": "stream",
     "text": [
      "I0313 10:16:50.282296 14592 510440094.py:29] End Training Model\n",
      "I0313 10:16:53.191934 14592 510440094.py:2] Start Training Model\n"
     ]
    },
    {
     "name": "stdout",
     "output_type": "stream",
     "text": [
      "Epoch :45 train_score 5249.148811303828 val_score 5249.092679986543\n"
     ]
    },
    {
     "name": "stderr",
     "output_type": "stream",
     "text": [
      "I0313 10:16:57.955164 14592 510440094.py:29] End Training Model\n"
     ]
    }
   ],
   "source": [
    "\n",
    "# create model instance\n",
    "model = LSTM(\n",
    "    input_size=len(train_dataset.features_list),\n",
    "    hidden_size=params['hidden_size'],\n",
    "    num_layers=params['num_layers'],\n",
    "    output_size=xfinai_config.lstm_model_config['output_size'],\n",
    "    dropout_prob=params['dropout_prob'],\n",
    "    device=device\n",
    ").to(device)\n",
    "\n",
    "criterion = nn.L1Loss()\n",
    "\n",
    "optimizer = optim.AdamW(model.parameters(),\n",
    "                        lr=params['learning_rate'],\n",
    "                        weight_decay=params['weight_decay'])\n",
    "\n",
    "epochs = 50\n",
    "\n",
    "print(model)\n",
    "train_losses = []\n",
    "val_losses = []\n",
    "# train the model\n",
    "for epoch in range(epochs):\n",
    "    trained_model, train_score = train(train_data_loader=train_loader, model=model, criterion=criterion,\n",
    "                                       optimizer=optimizer,\n",
    "                                       params=params)\n",
    "    val_score = validate(val_data_loader=val_loader, model=trained_model, criterion=criterion, params=params)\n",
    "\n",
    "    # report intermediate result\n",
    "    print(f\"Epoch :{epoch} train_score {train_score} val_score {val_score}\")\n",
    "    train_losses.append(train_score)\n",
    "    val_losses.append(val_score)"
   ]
  },
  {
   "cell_type": "code",
   "execution_count": 20,
   "metadata": {},
   "outputs": [
    {
     "data": {
      "image/png": "[encoded data removed]",
      "text/plain": [
       "<Figure size 600x300 with 1 Axes>"
      ]
     },
     "metadata": {
      "needs_background": "light"
     },
     "output_type": "display_data"
    },
    {
     "data": {
      "image/png": "[encoded data removed]",
      "text/plain": [
       "<Figure size 600x300 with 1 Axes>"
      ]
     },
     "metadata": {
      "needs_background": "light"
     },
     "output_type": "display_data"
    },
    {
     "data": {
      "image/png": "[encoded data removed]",
      "text/plain": [
       "<Figure size 1500x300 with 1 Axes>"
      ]
     },
     "metadata": {
      "needs_background": "light"
     },
     "output_type": "display_data"
    },
    {
     "data": {
      "image/png": "[encoded data removed]",
      "text/plain": [
       "<Figure size 1500x300 with 1 Axes>"
      ]
     },
     "metadata": {
      "needs_background": "light"
     },
     "output_type": "display_data"
    },
    {
     "data": {
      "image/png": "[encoded data removed]",
      "text/plain": [
       "<Figure size 1500x300 with 1 Axes>"
      ]
     },
     "metadata": {
      "needs_background": "light"
     },
     "output_type": "display_data"
    }
   ],
   "source": [
    "# # save the model\n",
    "# save_model(trained_model, future_index)\n",
    "\n",
    "# plot losses\n",
    "plotter.plot_loss(train_losses, epochs, 'Train_Loss', trained_model.name, future_index)\n",
    "plotter.plot_loss(val_losses, epochs, 'Val_Loss', trained_model.name, future_index)\n",
    "\n",
    "# eval model on 3 datasets\n",
    "for dataloader, data_set_name in zip([train_loader, val_loader, test_loader],\n",
    "                                     ['Train', 'Val', 'Test']):\n",
    "    eval_model(model=trained_model, dataloader=dataloader, data_set_name=data_set_name,\n",
    "               future_name=future_index, params=params)"
   ]
  },
  {
   "cell_type": "code",
   "execution_count": null,
   "metadata": {},
   "outputs": [],
   "source": []
  }
 ],
 "metadata": {
  "kernelspec": {
   "display_name": "nni",
   "language": "python",
   "name": "nni"
  },
  "language_info": {
   "codemirror_mode": {
    "name": "ipython",
    "version": 3
   },
   "file_extension": ".py",
   "mimetype": "text/x-python",
   "name": "python",
   "nbconvert_exporter": "python",
   "pygments_lexer": "ipython3",
   "version": "3.8.12"
  }
 },
 "nbformat": 4,
 "nbformat_minor": 4
}
