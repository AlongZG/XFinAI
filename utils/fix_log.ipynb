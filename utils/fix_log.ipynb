{
 "cells": [
  {
   "cell_type": "code",
   "execution_count": 1,
   "metadata": {},
   "outputs": [],
   "source": [
    "import os\n",
    "import shutil"
   ]
  },
  {
   "cell_type": "code",
   "execution_count": 2,
   "metadata": {},
   "outputs": [],
   "source": [
    "trials_path = 'd:/nni_experiments/h8w0oyd4/trials'\n",
    "trials_list = os.listdir(trials_path)\n",
    "trials_list = sorted(trials_list, key=lambda x: os.path.getctime(os.path.join(trials_path, x)))"
   ]
  },
  {
   "cell_type": "code",
   "execution_count": 3,
   "metadata": {},
   "outputs": [],
   "source": [
    "tensorboard_path = './tensorboard'\n",
    "tensorboard_events = (os.listdir(tensorboard_path))\n",
    "tensorboard_events = sorted(tensorboard_events, key=lambda x: os.path.getctime(os.path.join(tensorboard_path, x)))"
   ]
  },
  {
   "cell_type": "code",
   "execution_count": 4,
   "metadata": {},
   "outputs": [],
   "source": [
    "for index, trial in enumerate(trials_list):\n",
    "        \n",
    "    trial_path_save_path = f'./trial_tensorboard/{trial}/'\n",
    "    os.makedirs(trial_path_save_path, exist_ok=True)\n",
    "    trial_path = os.path.join(trials_path, trial)\n",
    "    time_stamp_trial = int(os.path.getctime(trial_path))\n",
    "\n",
    "\n",
    "    if index == len(trials_list)-1:\n",
    "        break\n",
    "        \n",
    "    next_trial = trials_list[index+1]\n",
    "    next_trial_path = os.path.join(trials_path, next_trial)\n",
    "    time_stamp_next_trial = int(os.path.getctime(next_trial_path))\n",
    "    \n",
    "    for event in tensorboard_events:\n",
    "        event_path = os.path.join(tensorboard_path, event)\n",
    "        time_stamp_envent = int(event.split('.')[3])\n",
    "        if time_stamp_envent >= time_stamp_trial: \n",
    "            if time_stamp_envent < time_stamp_next_trial:\n",
    "                shutil.copy(event_path, trial_path_save_path)\n",
    "            else:\n",
    "                break\n",
    "    tensorboard_events = (os.listdir(tensorboard_path))\n",
    "    tensorboard_events = sorted(tensorboard_events, key=lambda x: os.path.getctime(os.path.join(tensorboard_path, x)))"
   ]
  }
 ],
 "metadata": {
  "kernelspec": {
   "display_name": "nni",
   "language": "python",
   "name": "nni"
  },
  "language_info": {
   "codemirror_mode": {
    "name": "ipython",
    "version": 3
   },
   "file_extension": ".py",
   "mimetype": "text/x-python",
   "name": "python",
   "nbconvert_exporter": "python",
   "pygments_lexer": "ipython3",
   "version": "3.8.12"
  }
 },
 "nbformat": 4,
 "nbformat_minor": 4
}
