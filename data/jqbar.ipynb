{
 "cells": [
  {
   "cell_type": "code",
   "execution_count": 1,
   "metadata": {},
   "outputs": [
    {
     "name": "stdout",
     "output_type": "stream",
     "text": [
      "auth success \n"
     ]
    }
   ],
   "source": [
    "from jqdatasdk import *\n",
    "auth('15574365976','Rickzhou0416')\n",
    "import pandas as pd\n",
    "\n",
    "import sys\n",
    "sys.path.append('../')\n",
    "import xfinai_config\n",
    "import glog"
   ]
  },
  {
   "cell_type": "code",
   "execution_count": 13,
   "metadata": {},
   "outputs": [
    {
     "data": {
      "text/plain": [
       "{'total': 1000000, 'spare': 932690}"
      ]
     },
     "execution_count": 13,
     "metadata": {},
     "output_type": "execute_result"
    }
   ],
   "source": [
    "get_query_count()"
   ]
  },
  {
   "cell_type": "code",
   "execution_count": null,
   "metadata": {},
   "outputs": [
    {
     "name": "stderr",
     "output_type": "stream",
     "text": [
      "I0313 16:15:50.254301 21632 3114571231.py:2] Gettig bar data for ic time_freq: 30m\n"
     ]
    }
   ],
   "source": [
    "for future_index in xfinai_config.futures_index_map:\n",
    "    glog.info(f\"Gettig bar data for {future_index} time_freq: {xfinai_config.time_freq}\")\n",
    "    df = get_bars([f\"{future_index.upper()}9999.CCFX\"], count=1000000, unit=xfinai_config.time_freq,\n",
    "                    fields=['date','open','high','low','close', 'volume', 'money', 'open_interest'],\n",
    "                    include_now=False, end_dt=None, fq_ref_date=None,df=True)\n",
    "    df_ic.set_index('date').to_pickle(f\"./origin_data/{future_index}_{xfinai_config.time_freq}.pkl\")"
   ]
  }
 ],
 "metadata": {
  "kernelspec": {
   "display_name": "nni",
   "language": "python",
   "name": "nni"
  },
  "language_info": {
   "codemirror_mode": {
    "name": "ipython",
    "version": 3
   },
   "file_extension": ".py",
   "mimetype": "text/x-python",
   "name": "python",
   "nbconvert_exporter": "python",
   "pygments_lexer": "ipython3",
   "version": "3.8.12"
  }
 },
 "nbformat": 4,
 "nbformat_minor": 4
}
