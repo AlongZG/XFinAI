{
 "cells": [
  {
   "cell_type": "code",
   "execution_count": 1,
   "metadata": {},
   "outputs": [
    {
     "name": "stdout",
     "output_type": "stream",
     "text": [
      "auth success \n"
     ]
    }
   ],
   "source": [
    "from jqdatasdk import *\n",
    "auth('15574365976','Rickzhou0416')\n",
    "import pandas as pd"
   ]
  },
  {
   "cell_type": "code",
   "execution_count": 2,
   "metadata": {},
   "outputs": [
    {
     "data": {
      "text/plain": [
       "{'total': 1000000, 'spare': 1000000}"
      ]
     },
     "execution_count": 2,
     "metadata": {},
     "output_type": "execute_result"
    }
   ],
   "source": [
    "get_query_count()\n"
   ]
  },
  {
   "cell_type": "code",
   "execution_count": 5,
   "metadata": {},
   "outputs": [],
   "source": [
    "df_ic = get_bars([\"IC9999.CCFX\"], count=1000000, unit='1m',\n",
    "                fields=['date','open','high','low','close', 'volume', 'money', 'open_interest'],\n",
    "                include_now=False, end_dt=None, fq_ref_date=None,df=True)"
   ]
  },
  {
   "cell_type": "code",
   "execution_count": 6,
   "metadata": {},
   "outputs": [
    {
     "data": {
      "text/html": [
       "<div>\n",
       "<style scoped>\n",
       "    .dataframe tbody tr th:only-of-type {\n",
       "        vertical-align: middle;\n",
       "    }\n",
       "\n",
       "    .dataframe tbody tr th {\n",
       "        vertical-align: top;\n",
       "    }\n",
       "\n",
       "    .dataframe thead th {\n",
       "        text-align: right;\n",
       "    }\n",
       "</style>\n",
       "<table border=\"1\" class=\"dataframe\">\n",
       "  <thead>\n",
       "    <tr style=\"text-align: right;\">\n",
       "      <th></th>\n",
       "      <th></th>\n",
       "      <th>date</th>\n",
       "      <th>open</th>\n",
       "      <th>high</th>\n",
       "      <th>low</th>\n",
       "      <th>close</th>\n",
       "      <th>volume</th>\n",
       "      <th>money</th>\n",
       "      <th>open_interest</th>\n",
       "    </tr>\n",
       "  </thead>\n",
       "  <tbody>\n",
       "    <tr>\n",
       "      <th rowspan=\"11\" valign=\"top\">IC9999.CCFX</th>\n",
       "      <th>0</th>\n",
       "      <td>2015-04-17 09:16:00</td>\n",
       "      <td>7722.0</td>\n",
       "      <td>7727.6</td>\n",
       "      <td>7708.4</td>\n",
       "      <td>7708.4</td>\n",
       "      <td>636.0</td>\n",
       "      <td>981331160.0</td>\n",
       "      <td>6677.0</td>\n",
       "    </tr>\n",
       "    <tr>\n",
       "      <th>1</th>\n",
       "      <td>2015-04-17 09:17:00</td>\n",
       "      <td>7709.4</td>\n",
       "      <td>7709.4</td>\n",
       "      <td>7700.4</td>\n",
       "      <td>7700.4</td>\n",
       "      <td>466.0</td>\n",
       "      <td>717961680.0</td>\n",
       "      <td>6758.0</td>\n",
       "    </tr>\n",
       "    <tr>\n",
       "      <th>2</th>\n",
       "      <td>2015-04-17 09:18:00</td>\n",
       "      <td>7700.0</td>\n",
       "      <td>7704.6</td>\n",
       "      <td>7699.2</td>\n",
       "      <td>7699.4</td>\n",
       "      <td>370.0</td>\n",
       "      <td>569864800.0</td>\n",
       "      <td>6808.0</td>\n",
       "    </tr>\n",
       "    <tr>\n",
       "      <th>3</th>\n",
       "      <td>2015-04-17 09:19:00</td>\n",
       "      <td>7700.0</td>\n",
       "      <td>7700.4</td>\n",
       "      <td>7686.0</td>\n",
       "      <td>7686.0</td>\n",
       "      <td>410.0</td>\n",
       "      <td>631039800.0</td>\n",
       "      <td>6829.0</td>\n",
       "    </tr>\n",
       "    <tr>\n",
       "      <th>4</th>\n",
       "      <td>2015-04-17 09:20:00</td>\n",
       "      <td>7687.2</td>\n",
       "      <td>7697.0</td>\n",
       "      <td>7686.0</td>\n",
       "      <td>7695.0</td>\n",
       "      <td>371.0</td>\n",
       "      <td>570677480.0</td>\n",
       "      <td>6838.0</td>\n",
       "    </tr>\n",
       "    <tr>\n",
       "      <th>...</th>\n",
       "      <td>...</td>\n",
       "      <td>...</td>\n",
       "      <td>...</td>\n",
       "      <td>...</td>\n",
       "      <td>...</td>\n",
       "      <td>...</td>\n",
       "      <td>...</td>\n",
       "      <td>...</td>\n",
       "    </tr>\n",
       "    <tr>\n",
       "      <th>393595</th>\n",
       "      <td>2021-12-06 14:56:00</td>\n",
       "      <td>7221.6</td>\n",
       "      <td>7222.8</td>\n",
       "      <td>7219.8</td>\n",
       "      <td>7219.8</td>\n",
       "      <td>524.0</td>\n",
       "      <td>756818160.0</td>\n",
       "      <td>117999.0</td>\n",
       "    </tr>\n",
       "    <tr>\n",
       "      <th>393596</th>\n",
       "      <td>2021-12-06 14:57:00</td>\n",
       "      <td>7220.0</td>\n",
       "      <td>7220.8</td>\n",
       "      <td>7218.6</td>\n",
       "      <td>7219.0</td>\n",
       "      <td>433.0</td>\n",
       "      <td>625230760.0</td>\n",
       "      <td>118207.0</td>\n",
       "    </tr>\n",
       "    <tr>\n",
       "      <th>393597</th>\n",
       "      <td>2021-12-06 14:58:00</td>\n",
       "      <td>7219.2</td>\n",
       "      <td>7219.2</td>\n",
       "      <td>7217.0</td>\n",
       "      <td>7218.2</td>\n",
       "      <td>559.0</td>\n",
       "      <td>806982240.0</td>\n",
       "      <td>118402.0</td>\n",
       "    </tr>\n",
       "    <tr>\n",
       "      <th>393598</th>\n",
       "      <td>2021-12-06 14:59:00</td>\n",
       "      <td>7218.2</td>\n",
       "      <td>7222.0</td>\n",
       "      <td>7216.6</td>\n",
       "      <td>7219.2</td>\n",
       "      <td>597.0</td>\n",
       "      <td>861998960.0</td>\n",
       "      <td>118535.0</td>\n",
       "    </tr>\n",
       "    <tr>\n",
       "      <th>393599</th>\n",
       "      <td>2021-12-06 15:00:00</td>\n",
       "      <td>7219.4</td>\n",
       "      <td>7220.8</td>\n",
       "      <td>7215.2</td>\n",
       "      <td>7215.2</td>\n",
       "      <td>679.0</td>\n",
       "      <td>980243560.0</td>\n",
       "      <td>118648.0</td>\n",
       "    </tr>\n",
       "  </tbody>\n",
       "</table>\n",
       "<p>393600 rows × 8 columns</p>\n",
       "</div>"
      ],
      "text/plain": [
       "                                  date    open    high     low   close  \\\n",
       "IC9999.CCFX 0      2015-04-17 09:16:00  7722.0  7727.6  7708.4  7708.4   \n",
       "            1      2015-04-17 09:17:00  7709.4  7709.4  7700.4  7700.4   \n",
       "            2      2015-04-17 09:18:00  7700.0  7704.6  7699.2  7699.4   \n",
       "            3      2015-04-17 09:19:00  7700.0  7700.4  7686.0  7686.0   \n",
       "            4      2015-04-17 09:20:00  7687.2  7697.0  7686.0  7695.0   \n",
       "...                                ...     ...     ...     ...     ...   \n",
       "            393595 2021-12-06 14:56:00  7221.6  7222.8  7219.8  7219.8   \n",
       "            393596 2021-12-06 14:57:00  7220.0  7220.8  7218.6  7219.0   \n",
       "            393597 2021-12-06 14:58:00  7219.2  7219.2  7217.0  7218.2   \n",
       "            393598 2021-12-06 14:59:00  7218.2  7222.0  7216.6  7219.2   \n",
       "            393599 2021-12-06 15:00:00  7219.4  7220.8  7215.2  7215.2   \n",
       "\n",
       "                    volume        money  open_interest  \n",
       "IC9999.CCFX 0        636.0  981331160.0         6677.0  \n",
       "            1        466.0  717961680.0         6758.0  \n",
       "            2        370.0  569864800.0         6808.0  \n",
       "            3        410.0  631039800.0         6829.0  \n",
       "            4        371.0  570677480.0         6838.0  \n",
       "...                    ...          ...            ...  \n",
       "            393595   524.0  756818160.0       117999.0  \n",
       "            393596   433.0  625230760.0       118207.0  \n",
       "            393597   559.0  806982240.0       118402.0  \n",
       "            393598   597.0  861998960.0       118535.0  \n",
       "            393599   679.0  980243560.0       118648.0  \n",
       "\n",
       "[393600 rows x 8 columns]"
      ]
     },
     "execution_count": 6,
     "metadata": {},
     "output_type": "execute_result"
    }
   ],
   "source": [
    "df_ic"
   ]
  },
  {
   "cell_type": "code",
   "execution_count": 12,
   "metadata": {},
   "outputs": [],
   "source": [
    "df_ic.set_index('date').to_pickle(\"./IC_1m.pkl\")"
   ]
  }
 ],
 "metadata": {
  "kernelspec": {
   "display_name": "Python (Quant)",
   "language": "python",
   "name": "quant"
  },
  "language_info": {
   "codemirror_mode": {
    "name": "ipython",
    "version": 3
   },
   "file_extension": ".py",
   "mimetype": "text/x-python",
   "name": "python",
   "nbconvert_exporter": "python",
   "pygments_lexer": "ipython3",
   "version": "3.8.5"
  }
 },
 "nbformat": 4,
 "nbformat_minor": 4
}
