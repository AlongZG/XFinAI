{
 "cells": [
  {
   "cell_type": "code",
   "execution_count": 1,
   "metadata": {},
   "outputs": [
    {
     "name": "stdout",
     "output_type": "stream",
     "text": [
      "auth success \n"
     ]
    }
   ],
   "source": [
    "from jqdatasdk import *\n",
    "auth('15574365976','Rickzhou0416')\n",
    "import pandas as pd\n",
    "\n",
    "import sys\n",
    "sys.path.append('../')\n",
    "import xfinai_config\n",
    "import glog"
   ]
  },
  {
   "cell_type": "code",
   "execution_count": 2,
   "metadata": {},
   "outputs": [
    {
     "data": {
      "text/plain": [
       "{'total': 5000000, 'spare': 5000000}"
      ]
     },
     "execution_count": 2,
     "metadata": {},
     "output_type": "execute_result"
    }
   ],
   "source": [
    "get_query_count()"
   ]
  },
  {
   "cell_type": "code",
   "execution_count": 3,
   "metadata": {},
   "outputs": [
    {
     "name": "stderr",
     "output_type": "stream",
     "text": [
      "I0321 20:32:46.556483 20252 <ipython-input-3-e36bc59e99f5>:2] Gettig bar data for ic time_freq: 1m\n",
      "I0321 20:32:51.150674 20252 <ipython-input-3-e36bc59e99f5>:2] Gettig bar data for ih time_freq: 1m\n",
      "I0321 20:32:54.859247 20252 <ipython-input-3-e36bc59e99f5>:2] Gettig bar data for if time_freq: 1m\n"
     ]
    }
   ],
   "source": [
    "for future_index in xfinai_config.futures_index_map:\n",
    "    glog.info(f\"Gettig bar data for {future_index} time_freq: {xfinai_config.time_freq}\")\n",
    "    df = get_bars([f\"{future_index.upper()}9999.CCFX\"], count=100000, unit=xfinai_config.time_freq,\n",
    "                    fields=['date','open','high','low','close', 'volume', 'money', 'open_interest'],\n",
    "                    include_now=False, end_dt=None, fq_ref_date=None,df=True)\n",
    "    df.set_index('date').to_pickle(f\"./raw_data/{future_index}_{xfinai_config.time_freq}.pkl\")"
   ]
  },
  {
   "cell_type": "code",
   "execution_count": null,
   "metadata": {},
   "outputs": [],
   "source": []
  }
 ],
 "metadata": {
  "kernelspec": {
   "display_name": "Python (Quant)",
   "language": "python",
   "name": "quant"
  },
  "language_info": {
   "codemirror_mode": {
    "name": "ipython",
    "version": 3
   },
   "file_extension": ".py",
   "mimetype": "text/x-python",
   "name": "python",
   "nbconvert_exporter": "python",
   "pygments_lexer": "ipython3",
   "version": "3.8.5"
  }
 },
 "nbformat": 4,
 "nbformat_minor": 4
}
